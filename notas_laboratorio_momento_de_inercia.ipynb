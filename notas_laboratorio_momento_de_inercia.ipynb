{
 "metadata": {
  "name": "",
  "signature": "sha256:7319740a304501f4759d6429a47de41f26a9f679eba59a66926734f5ed1835ab"
 },
 "nbformat": 3,
 "nbformat_minor": 0,
 "worksheets": [
  {
   "cells": [
    {
     "cell_type": "code",
     "collapsed": false,
     "input": [
      "%matplotlib inline\n",
      "\n",
      "import numpy as np\n",
      "import matplotlib.pyplot as plt"
     ],
     "language": "python",
     "metadata": {},
     "outputs": []
    },
    {
     "cell_type": "code",
     "collapsed": false,
     "input": [
      "x1 = np.array([0.24, 0.46, 0.67, 0.70])\n",
      "#y1 = np.array([0.03, 0.06, 0.08, 0.10])\n",
      "y1 = np.array([0.00335, 0.00558, 0.00781, 0.01004])"
     ],
     "language": "python",
     "metadata": {},
     "outputs": [],
     "prompt_number": 3
    },
    {
     "cell_type": "code",
     "collapsed": false,
     "input": [
      "x2 = np.array([0.09, 0.12, 0.16, 0.19])\n",
      "#y2 = np.array([0.07, 0.09, 0.11, 0.14])\n",
      "y2 = np.array([0.00669, 0.00892, 0.01115, 0.01338])"
     ],
     "language": "python",
     "metadata": {},
     "outputs": [],
     "prompt_number": 4
    },
    {
     "cell_type": "code",
     "collapsed": false,
     "input": [
      "x3 = np.array([0.04, 0.06, 0.08, 0.10])\n",
      "#y3 = np.array([0.07, 0.09, 0.11, 0.14])\n",
      "y3 = np.array([0.00669, 0.00892, 0.01115, 0.01338])"
     ],
     "language": "python",
     "metadata": {},
     "outputs": [],
     "prompt_number": 51
    },
    {
     "cell_type": "code",
     "collapsed": false,
     "input": [
      "#b1 = -0.0031\n",
      "#a1 = 0.1364\n",
      "xx=np.linspace(0, 1)\n",
      "yy1=a1*xx+b1\n",
      "\n",
      "#b2 = 0.0084\n",
      "#a2 = 0.672\n",
      "yy2=a2*xx+b2\n",
      "\n",
      "#b3 = 0.022\n",
      "#a3 = 1.15\n",
      "yy3=a3*xx+b3"
     ],
     "language": "python",
     "metadata": {},
     "outputs": [],
     "prompt_number": 82
    },
    {
     "cell_type": "code",
     "collapsed": false,
     "input": [
      "n=0\n",
      "m=0.75\n",
      "nn=0\n",
      "mm=0.15\n",
      "\n",
      "fig, axes = plt.subplots(1,3, figsize=(15,4.5))\n",
      "\n",
      "axes[0].plot(x1, y1,color=\"green\", lw=9, ls=\"*\", marker=\"o\")\n",
      "axes[0].plot(xx, yy1,color=\"red\")\n",
      "axes[0].set_title(\"Disco de plastico\")\n",
      "axes[0].set_xlim([n, m])\n",
      "axes[0].set_ylim([nn, mm])\n",
      "axes[0].set_xlabel(\"$1/t^2$\")\n",
      "axes[0].set_ylabel(\"$M$\")\n",
      "\n",
      "axes[1].plot(x2, y2,color=\"blue\", lw=2, ls=\"*\", marker=\"s\")\n",
      "axes[1].plot(xx, yy2,color=\"green\")\n",
      "axes[1].set_title(\"Disco de hierro\")\n",
      "axes[1].set_xlim([n, m])\n",
      "axes[1].set_ylim([nn, mm])\n",
      "axes[1].set_xlabel(\"$1/t^2$\")\n",
      "axes[1].set_ylabel(\"$M$\")\n",
      "\n",
      "axes[2].plot(x3, y3,color=\"red\", lw=1, ls=\"*\", marker=\"*\", markersize=9)\n",
      "axes[2].plot(xx, yy3,color=\"blue\")\n",
      "axes[2].set_title(\"Aro de hierro\")\n",
      "axes[2].set_xlim([n, m])\n",
      "axes[2].set_ylim([nn, mm])\n",
      "axes[2].set_xlabel(\"$1/t^2$\")\n",
      "axes[2].set_ylabel(\"$M$\");"
     ],
     "language": "python",
     "metadata": {},
     "outputs": [
      {
       "metadata": {},
       "output_type": "display_data",
       "png": "[encoded data removed]",
       "text": [
        "<matplotlib.figure.Figure at 0x107a963d0>"
       ]
      }
     ],
     "prompt_number": 92
    },
    {
     "cell_type": "code",
     "collapsed": false,
     "input": [
      "fig.savefig(\"momento_tiempo_cuadrado.png\", dpi=400)"
     ],
     "language": "python",
     "metadata": {},
     "outputs": [],
     "prompt_number": 93
    }
   ],
   "metadata": {}
  }
 ]
}